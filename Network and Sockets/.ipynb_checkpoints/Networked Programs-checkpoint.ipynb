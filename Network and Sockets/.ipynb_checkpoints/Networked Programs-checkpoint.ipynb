{
 "cells": [
  {
   "cell_type": "code",
   "execution_count": 1,
   "metadata": {
    "collapsed": true
   },
   "outputs": [],
   "source": [
    "import socket"
   ]
  },
  {
   "cell_type": "code",
   "execution_count": 2,
   "metadata": {
    "collapsed": true
   },
   "outputs": [],
   "source": [
    "mysock=socket.socket(socket.AF_INET,socket.SOCK_STREAM)"
   ]
  },
  {
   "cell_type": "code",
   "execution_count": 8,
   "metadata": {
    "collapsed": true
   },
   "outputs": [],
   "source": [
    "mysock1=socket.socket(socket.AF_INET,socket.SOCK_STREAM)"
   ]
  },
  {
   "cell_type": "code",
   "execution_count": 6,
   "metadata": {
    "collapsed": false
   },
   "outputs": [],
   "source": [
    "mysock.connect(('www.py4inf.com',80))"
   ]
  },
  {
   "cell_type": "code",
   "execution_count": 9,
   "metadata": {
    "collapsed": false
   },
   "outputs": [],
   "source": [
    "mysock1.connect(('www.antena3.ro',80))"
   ]
  },
  {
   "cell_type": "code",
   "execution_count": 15,
   "metadata": {
    "collapsed": false
   },
   "outputs": [
    {
     "name": "stdout",
     "output_type": "stream",
     "text": [
      "Trying 216.250.120.69...\n",
      "Connected to www.dr-chuck.com.\n",
      "Escape character is '^]'.\n",
      "Connection closed by foreign host.\n",
      "<h1>The First Page</h1>\n",
      "<p>\n",
      "If you like, you can switch to the \n",
      "<a href=\"http://www.dr-chuck.com/page2.htm\">\n",
      "Second Page</a>.\n",
      "</p>\n"
     ]
    }
   ],
   "source": [
    "!telnet www.dr-chuck.com 80\n",
    "!GET http://www.dr-chuck.com/page1.htm HTTP/1.0"
   ]
  },
  {
   "cell_type": "code",
   "execution_count": 18,
   "metadata": {
    "collapsed": false
   },
   "outputs": [
    {
     "name": "stdout",
     "output_type": "stream",
     "text": [
      "Trying 216.250.120.69...\n",
      "Connected to www.dr-chuck.com.\n",
      "Escape character is '^]'.\n",
      "Connection closed by foreign host.\n",
      "<h1>The First Page</h1>\n",
      "<p>\n",
      "If you like, you can switch to the \n",
      "<a href=\"http://www.dr-chuck.com/page2.htm\">\n",
      "Second Page</a>.\n",
      "</p>\n",
      "<!DOCTYPE html PUBLIC \"-//W3C//DTD HTML 4.01//EN\" \"http://www.w3.org/TR/html4/strict.dtd\">\n",
      "<html xmlns=\"http://www.w3.org/1999/xhtml\" data-adblockkey=\"MFwwDQYJKoZIhvcNAQEBBQADSwAwSAJBAKrfIMFkSaoTSqKmC+BrghK0CpDHc0MuVzmMHin8LIORhpXbped+iYhSnZurWnEO0zcKcVIrzp026LVc5pMB9bUCAwEAAQ==_npY3XNH7ypbXij18RsgFHYAsZcI0uj5MuMupz9vM69nt/NZCypIpNMByGWuaTeOZfxlANX0UZqYBPwG3wpzikA==\">\n",
      "<head><script type=\"text/javascript\">var abp;</script><script type=\"text/javascript\" src=\"http://www.http.com/px.js?ch=1\"></script><script type=\"text/javascript\" src=\"http://www.http.com/px.js?ch=2\"></script><script type=\"text/javascript\">function handleABPDetect(){try{var imglog = document.createElement(\"img\");imglog.src=\"http://www.http.com/rg-logabpstatus.php?a=N0NiVzRUQXY4RFhYdHpkdjBoZk5OM2p5eDVVeDQ4MWkzTlFFVUJzeFlnR0d5aWtodURLOXdweXVOTHJiQVJaRzBjbFUvYXNORkxOQkJwbnlZd3RSZUIyS0V2VTNQUjNxSXRGYklDeXE3aGM9&b=\"+abp;document.body.appendChild(imglog);}catch(err){}}try{window.onload=handleABPDetect();}catch(err){}</script><title>http.com</title>\n",
      "<meta http-equiv=\"Content-Type\" content=\"text/html; charset=\">\n",
      "<meta name=\"viewport\" content=\"width=device-width, initial-scale=1, maximum-scale=1, user-scalable = no\">\n",
      "<link rel=\"shortcut icon\" type=\"image/gif\" href=\"http://c.rmgserving.com/rmgpsc/9476/Favicon.gif\"/>\n",
      "<style type=\"text/css\">\n",
      "*{margin:0; padding:0}\n",
      "a{text-decoration:none; outline:none}\n",
      "a:hover{text-indent:0; cursor:pointer}\n",
      ".clearfix:after{visibility: hidden;display:block;font-size: 0;content: \" \";clear: both;height:0}\n",
      "* html .clearfix{zoom:1} \n",
      "*:first-child+html .clearfix{zoom:1}\n",
      "\n",
      "body{font-family:Arial, Helvetica, sans-serif; background:url(http://d3sxcf6d4hxjd9.cloudfront.net/rmgpsc/7867/body-bg.gif) 0 0 repeat #000}\n",
      "#main-wrap{background:url(http://d258j801nsw1p7.cloudfront.net/rmgpsc/7867/header-bg.jpg) top center no-repeat; background-size:100% 100px}\n",
      "\n",
      ".container{width:960px; margin:0 auto}\n",
      ".header{height:100px}\n",
      ".leftblk {float: left;width: 39%;word-wrap: break-word;background: url(http://d258j801nsw1p7.cloudfront.net/rmgpsc/7867/logo1.png) no-repeat center left;padding-left: 70px;height: 100px;overflow: hidden;}\n",
      ".domain_name{line-height:normal; font-size:26px; font-weight:normal; color:#fff; margin-top: 35px}\n",
      ".searchbox{float:right; width:360px; * width:370px; _width:370px; height:28px !important; padding-top:2px; margin-top:35px; /*padding-left:33px;background:url(http://d3sxcf6d4hxjd9.cloudfront.net/rmgpsc/7868/srch-bg-caf2.gif) 0 0 no-repeat*/}\n",
      "\n",
      ".content{padding-bottom:10px; background:#202020}\n",
      ".frt_arr{float:left;width:30%; height:425px; background:url(http://d3ujb2t8x8alxd.cloudfront.net/rmgpsc/7983/frst_arr.jpg); background-position:10px 70px; background-repeat:no-repeat;background-size: 90%}\n",
      ".lst_arr{float:left;width:30%; height:425px; background:url(http://d2bfa0zlmvk3fe.cloudfront.net/rmgpsc/7983/last_arr.jpg); background-position:10px 70px; background-repeat:no-repeat;background-size: 90%}\n",
      ".kwd_bloack{float: left; width: 34%; margin-top: 84px; border: 1px solid #BBBBBB; border-radius: 4px; padding: 20px; background: #252525}\n",
      "\n",
      ".bottom_bg{height:44px; /*background:#181818; */ margin-top:34px}\n",
      ".bottom_rs{width:960px; height:44px; overflow:hidden; margin:0 auto; position:relative}\n",
      "#bot_rs{padding-top:9px}\n",
      ".separator{position:absolute; top:0;  left:156px; width:5px; height:44px; border-left:2px solid #282828; background:url(http://d3sxcf6d4hxjd9.cloudfront.net/rmgpsc/7867/sep-arw.gif) center center no-repeat}\n",
      "\n",
      ".footWrap {position: absolute; bottom: 0; width: 100%}\n",
      ".footer-nav{width: 100%; text-align:center; color:#555; padding-top: 20px}\n",
      ".footer-nav a{font-size:12px; color:#555;  padding: 0 5px; text-decoration:none}\n",
      ".footer-nav a:hover{text-decoration: none}\n",
      "\n",
      ".inquire {text-align:right; padding-top:10px; color:#fff}\n",
      ".inquire a {font-size:12px; font-weight:normal; color:#fff}\n",
      "\n",
      ".sale-msg {background:#fff; color:#4b4b4b; text-align:center; font-size:14px; width:100%; top:0; left:0}\n",
      ".sale-msg a {text-decoration: none; color:#079ce9; font-size:14px}\n",
      ".sale-msg a:hover, .bottom_rs ul li a:hover, .mid_rs ul li a:hover, .inquire a:hover{text-decoration: underline}\n",
      "\n",
      ".plaintxt {color: #555; font-size: 12px; margin: 20px auto; width: 100%; text-align: center}\n",
      ".plaintxt a {color: #555;}\n",
      "\n",
      "@media not all and (min-height: 800px){\n",
      ".footWrap {position: relative;}\n",
      "}\n",
      "@media not all and (min-width: 970px){\n",
      "  .container{width: 95%}  \n",
      "  .bottom_bg{display: none}\n",
      "}\n",
      "@media not all and (min-width: 840px){\n",
      "  .frt_arr{display: none}\n",
      "  .lst_arr{display: none}\n",
      "  .content{padding-top: 10px}\n",
      "  .kwd_bloack {float: none; width: 80%; margin: 0 auto}\n",
      "  .leftblk {float: none; height: auto; background-size: 35px; padding-left: 50px;width: auto}\n",
      "  .domain_name {line-height: normal; font-size: 20px; margin-top: 0;padding-top: 15px}\n",
      "  .searchbox {float: none; margin-top: 10px;padding-top: 0;  width: auto;}\n",
      "}\n",
      "</style>\n",
      "<script type=\"text/javascript\" src=\"http://www.google.com/adsense/domains/caf.js\"></script></head>\n",
      "<body onload=\"\" onunload=\"\" onBeforeUnload=\"\">\n",
      "<noscript><meta http-equiv=\"refresh\" content=\"0;url=http://www.http.com/rg-erdr.php?_rpo=t nxGRjzr&_rdm=iii.0rr .JvV&p=J1c4gcvmfN9ffFGoFgXoYVa%7C%40%7CbzEzEb%7C%40%7CX55g.JvV%7C%40%7CfB%7C%40%7C%7C%40%7CZzbHzEZHE%7C%40%7CzHZAFEz%7C%40%7C7n%7C%40%7C19c4NW4cGFHzTEtTEGZGzTbT%7C%40%7Ct+nh8llbj%7C%40%7Ct+7zFZKFH&ga=Jp3Rr4LISEX0Wh8eeO3thvpgI3DUI2eOOSvwFO91GlGEoCjLZIcak80rzSBDFmxmqUDy669ATUSAW0JvBkBb%2B22qeEegI%2BSO4qOyWDyu0kYui36PQBZAZP3Kxrbr3pE2hIR7YCe9xaSmBkTy9w5d4w7FprLSiXLvt4A5XMnXwHjmiupBTnXUbmnvCR0v3ZG%2B&t=gnojs\" /><center><p style=\"padding:1em; font-size:1.5em;\">For search results please <a href=\"http://www.http.com/rg-erdr.php?_rpo=t nxGRjzr&_rdm=iii.0rr .JvV&p=J1c4gcvmfN9ffFGoFgXoYVa%7C%40%7CbzEzEb%7C%40%7CX55g.JvV%7C%40%7CfB%7C%40%7C%7C%40%7CZzbHzEZHE%7C%40%7CzHZAFEz%7C%40%7C7n%7C%40%7C19c4NW4cGFHzTEtTEGZGzTbT%7C%40%7Ct+nh8llbj%7C%40%7Ct+7zFZKFH&ga=Jp3Rr4LISEX0Wh8eeO3thvpgI3DUI2eOOSvwFO91GlGEoCjLZIcak80rzSBDFmxmqUDy669ATUSAW0JvBkBb%2B22qeEegI%2BSO4qOyWDyu0kYui36PQBZAZP3Kxrbr3pE2hIR7YCe9xaSmBkTy9w5d4w7FprLSiXLvt4A5XMnXwHjmiupBTnXUbmnvCR0v3ZG%2B&t=gnojs\" style=\"text-decoration:underline; color:#0000EE;\">CLICK HERE</a>.</p></center></noscript> <script type=\"text/javascript\" language=\"javascript\">\n",
      "function __gpup(url, height, width, name) { sw=window.open(url,name,'height='+height+',width='+width+',location=no,toolbar=0,resizable=1,scrollbars=1');if (window.focus) {sw.focus()}; return false;};\n",
      "</script>\n",
      "<script text=\"text/javascript\" >\n",
      "\n",
      "var design =  { \n",
      "    'pageOptions':{\n",
      "      'pubId' : '',\n",
      "      'resultsPageBaseUrl' : '',\n",
      "      'fontFamily' : 'arial',\n",
      "      'hl' : 'en',\n",
      "      'maxTermLength' : 29,\n",
      "      'adtest' : 'on',\n",
      "      'clicktrackUrl' : '',\n",
      "      'fontFamilyAttribution' : 'arial',\n",
      "      'type' : 'pageoptions',\n",
      "      'uiOptimize':false,\n",
      "      \n",
      "      'pageLoadedCallback' : function(requestAccepted, status) {\n",
      "        document.body.style.visibility = 'visible';\n",
      "        if (!requestAccepted) {\n",
      "        }\n",
      "      }\n",
      "    },\n",
      "    'searchboxBlock':{\n",
      "      'container' : 'searchbox',\n",
      "      'type' : 'searchbox',\n",
      "      'fontSizeSearchInput' : 16,\n",
      "      'fontSizeSearchButton' : 13,\n",
      "\t  'widthSearchInput' : 215,\n",
      "\t  'colorSearchButton' : '#e2e2e2',\n",
      "\t  'hideSearchInputBorder' : false,\n",
      "\t  'hideSearchButtonBorder' : false\n",
      "     },\n",
      "\n",
      "    'mainrs':{\n",
      "      'container' : 'main_rs',\n",
      "    'type' : 'relatedsearch',\n",
      "    'colorBackground' : 'transparent',\n",
      "    'number' :6,\n",
      "    'fontSizeTitle' :18,\n",
      "    'titleBold': false,\n",
      "    'colorTitleLink' : '#079ce9',\n",
      "    'noTitleUnderline' : true,\n",
      "    'lineHeightTitle' : 32,\n",
      "    'fontFamily': 'Arial',\n",
      "    'fontSizeAttribution' : 14,\n",
      "    'colorAttribution' : '#d0cccc',\n",
      "    'adIconUrl': '//afs.googleusercontent.com/dp-rookmedia/arrow-4.png',\n",
      "    'adIconWidth': 21,\n",
      "    'adIconHeight': 21,\n",
      "    'adIconSpacingAbove' : 5,\n",
      "    'adIconSpacingBelow' : 0,\n",
      "    'adIconSpacingAfter' : 10,\n",
      "    'adIconSpacingBefore' : 0,\n",
      "    'attributionBold' : false,\n",
      "    'attributionUppercase': false,\n",
      "    'attributionSpacingBelow' : 10,\n",
      "    'rolloverLinkUnderline' : true,\n",
      "    'rolloverLinkColor' : '#08aa08',\n",
      "    'colorAdSeparator':'#5a5a5a'\n",
      "    }\n",
      "\t\t\n",
      "  \n",
      "\n",
      "};\n",
      "  </script>\n",
      "<div id=\"main-wrap\" class=\"clearfix\">\n",
      "  <div class=\"container clearfix\">\n",
      "    <div class=\"header clearfix\"></div>\n",
      "    <div class=\"content clearfix\">\n",
      "      <div class=\"arrows frt_arr\"></div>\n",
      "      <div class=\"kwd_bloack clearfix\" id=\"main_rs\"></div>\n",
      "      <div class=\"arrows lst_arr\"></div>\n",
      "    </div>\n",
      "      </div>\n",
      "  <div class=\"footWrap\">\n",
      "    <div class=\"footer-nav\">                \n",
      "      <a href=\"#\" onclick=\"return __gpup('http://www.http.com/rmgdsc/rprivacypolicy.php',600,800,'rpp');\">Privacy Policy</a>      </div>\n",
      "  \n",
      "  </div>\n",
      "</div>\n",
      "<script type=\"text/javascript\" language=\"javascript\">\n",
      " window._debug=false; window._dumpdata=false; \n",
      "\t\tvar _cflp = true;\n",
      "\t\tvar pgld  = true;\n",
      "\t\tvar totRS = -1;\n",
      "\t\tvar cntRS = 0;\n",
      "\t\tvar _cfstc = false;\n",
      "\t\tvar _cfblocker  = true;\n",
      "\t\tvar _cfrg =true;\n",
      "\t\tvar _cfHelp \t= _cfHelp || {};\n",
      "\t\t_cfHelp.design\t= design || {};\n",
      "\t\t_cfHelp.servVars= {\"webadfl\":\"webads.php\",\"kchst\":\"http:\\/\\/www.http.com\\/\",\"kcpg\":\"render\",\"jtchdl\":\"0\",\"lkwtkn\":null,\"qry\":null,\"cntry\":\"RO\",\"prvid\":1568341,\"lgky\":\"K21uWHd5aEFhZm0zalhVYUNXYzgwa2JwQ2RvV0R2VXhMemdITjAxS25wTEoxa0xDNFBnQ3VReCtGTjFkL3NJMTQ0RjZiVHdtQncveTVwWmw4bnoxNXpEamZEdFAvblJ2Yy8wNUQzeXYyREtjN1BZV2tZWW0yU1hoS1hWUUIvT1lSbkg5RFBlQUdkMzRycTBwV1BDNUFnPT0%3D\",\"_aftrprss\":\"\",\"is_webad_enabled\":0,\"loaderimage\":\"http:\\/\\/d3ujb2t8x8alxd.cloudfront.net\\/rmgisc\\/loader.gif\",\"_afdad\":1,\"noredir\":0,\"erpub\":\"oversee11_3ph_adult_xml\",\"erch\":\"372\",\"erpubcln\":\"ca-dp-oversee11_3ph_xml\",\"erchcln\":\"000307\",\"ghu\":\"http:\\/\\/www.http.com\\/rg-erdr.php?_rpo=t nxGRjzr&_rdm=iii.0rr .JvV&p=J1c4gcvmfN9ffFGoFgXoYVa%7C%40%7CbzEzEb%7C%40%7CX55g.JvV%7C%40%7CfB%7C%40%7C%7C%40%7CZzbHzEZHE%7C%40%7CzHZAFEz%7C%40%7C7n%7C%40%7C19c4NW4cGFHzTEtTEGZGzTbT%7C%40%7Ct+nh8llbj%7C%40%7Ct+7zFZKFH&ga=Jp3Rr4LISEX0Wh8eeO3thvpgI3DUI2eOOSvwFO91GlGEoCjLZIcak80rzSBDFmxmqUDy669ATUSAW0JvBkBb%2B22qeEegI%2BSO4qOyWDyu0kYui36PQBZAZP3Kxrbr3pE2hIR7YCe9xaSmBkTy9w5d4w7FprLSiXLvt4A5XMnXwHjmiupBTnXUbmnvCR0v3ZG%2B\"};\n",
      "\t\t_cfHelp.newOpts = {\n",
      "\t    \"pageoptions\": {\"kw\":\"car\",\"pubId\":\"dp-oversee32_3ph_xml\",\"channel\":\"014140\",\"hl\":\"en\",\"adtest\":\"off\",\"resultsPageBaseUrl\":\"http:\\/\\/www.http.com\\/?ga=Jp3Rr4LISEX0Wh8eeO3thvpgI3DUI2eOOSvwFO91GlGEoCjLZIcak80rzSBDFmxmqUDy669ATUSAW0JvBkBb%2B22qeEegI%2BSO4qOyWDyu0kYui36PQBZAZP3Kxrbr3pE2hIR7YCe9xaSmBkTy9w5d4w7FprLSiXLvt4A5XMnXwHjmiupBTnXUbmnvCR0v3ZG%2B&gqsg=3u0rWDQVibJujUmVySBVYHTmXec3C6P1BfCJXceYXBIJSjCWDt523ONC5yN4hz3R&maxads=0&gerf=KdJiyKzE9vtCLrL7OFfbGrtOJYJtKTxYF8U7kwwUCb4%3D&\",\"domainRegistrant\":\"as-drid-2351749742621707\",\"optimizeTerms\":false,\"terms\":\"[\\\"Domain Registration\\\",\\\"High Speed internet\\\",\\\"Website Hosting\\\",\\\"Network Monitoring\\\",\\\"Wireless Internet Providers\\\",\\\"Email Hosting\\\"]\",\"clicktrackUrl\":\"\\/\\/dsctracking.com\\/rg-cltrack.php?&gr=http%3A%2F%2Fgoogle.com%2F%3FRMGcaf%261489379543&gm=F0YT%2FGYl0A3wu4I9TfPztyrtbqIEGz7eGxP%2F7%2BZYJUoQrZ9e%2F72P0%2Bz03DT7EA6%2F7PFllT93yFzdSAfltPDGgGVfrcudMkjwIkK300wp3Bo4goT%2F6zO5BfbIN5OecpQYWa%2B42V8wTJYK1XxaKxOQa410EPWTkWQGxuXrBPQyQVBnsz92bv%2Bk5Q%2FBEhIBpI%2Ft&gc=11082369251433109628940&gi=ORwAmivoVBjq7fEa4AFdXcKT%2F1nxxFzdqNhtmpoiEPrkEixm%2FudoJ3RX0Qo%2BaMqn2GQ3XKjK5vAJ6YNaJKpDZrakZlbh2BAZjPPcf%2Fg7Y7GOo4PD4dor1sBu44%2FGzQn5OAOrZwj%2FmvwFybK65KFpMm65EL2vHySyB8krR9pRx3ohAzhamYregDmjZvb8jEbGxoByouCYOFuc2pnP0%2Bapmx4hh9TRJC3SSK7eD0kQUBUS%2F5Okvma0PoD3M7oXZsCW5gNnfOe%2BfJ3JtI2Hf%2B7SibwkUOMYw9F0xMWA5%2Fl8YMsSaEPKk5Y7K9eOCTiddFer2qXgLM6jVUn1GdTOt1FjfQo58jJfwdo4zXlYk4RSSOwCsX%2BPggV6zQiN0JT2%2FDO3tr041%2Bl%2BTnsbbf5GdzRGgUHXfKzF5olbASX%2BqHo5zSA%3D&kgp=0\",\"domainName\":\"http.com\"} ,\n",
      "\t\t\"relatedsearch\" :{ \"adLoadedCallback\": function (cnm, ld) {if(pgld && !ld && _cfrg && !_cfstc && _cflp){cntRS++;if(cntRS >= totRS && totRS!= -1 ){window.location=\"http://www.HTTP.com/?_stc_=1\"}}}},\n",
      "\t\t\"textads\" : {\"adLoadedCallback\": function (cnm, ld) {} },\n",
      "\t\t\"imagead\" : {\"adLoadedCallback\": function (cnm, ld) {}},\n",
      "\t\t\"ads\" : { \"adLoadedCallback\": function (cnm, ld) {}}\n",
      "    \t};\n",
      "\n",
      "\t\t_cfHelp.newOpts.pageoptions[\"pageLoadedCallback\"]\t= function(requestAccepted, status) { onPageLoad(requestAccepted, status); _cfblocker=false};try{if(abp){_cfHelp.newOpts.pageoptions['channel'] = _cfHelp.newOpts.pageoptions['channel']+',test141'}}catch(e){}\n",
      "</script>\n",
      " <script type=\"text/javascript\" src=\"http://d258j801nsw1p7.cloudfront.net/rmgdsc/newcafv2.js?ver=1\"></script> </body>\n",
      "</html>"
     ]
    }
   ],
   "source": [
    "!telnet www.dr-chuck.com 80\n",
    "!GET http://www.dr-chuck.com/page1.htm HTTP/1.0"
   ]
  },
  {
   "cell_type": "code",
   "execution_count": 39,
   "metadata": {
    "collapsed": true
   },
   "outputs": [],
   "source": [
    "mysock=socket.socket(socket.AF_INET,socket.SOCK_STREAM)"
   ]
  },
  {
   "cell_type": "code",
   "execution_count": 40,
   "metadata": {
    "collapsed": false
   },
   "outputs": [],
   "source": [
    "mysock.connect(('www.py4inf.com',80))"
   ]
  },
  {
   "cell_type": "code",
   "execution_count": 41,
   "metadata": {
    "collapsed": false
   },
   "outputs": [
    {
     "data": {
      "text/plain": [
       "51"
      ]
     },
     "execution_count": 41,
     "metadata": {},
     "output_type": "execute_result"
    }
   ],
   "source": [
    "\n",
    "mysock = socket.socket(socket.AF_INET, socket.SOCK_STREAM)\n",
    "mysock.connect(('www.py4inf.com', 80))\n",
    "mysock.send('GET http://www.py4inf.com/code/romeo.txt HTTP/1.0\\n\\n'.encode('utf-8'))"
   ]
  },
  {
   "cell_type": "code",
   "execution_count": 42,
   "metadata": {
    "collapsed": false
   },
   "outputs": [
    {
     "name": "stdout",
     "output_type": "stream",
     "text": [
      "b'HTTP/1.1 200 OK\\r\\nContent-Type: text/plain\\r\\nContent-Length: 167\\r\\nConnection: close\\r\\nDate: Mon, 13 Mar 2017 04:48:27 GMT\\r\\nServer: Apache\\r\\nLast-Modified: Fri, 04 Dec 2015 19:05:04 GMT\\r\\nETag: \"a7-526172f5b5d89\"\\r\\nAccept-Ranges: bytes\\r\\nCache-Control: max-age=604800, public\\r\\nAccess-Control-Allow-Origin: *\\r\\nAccess-Control-Allow-Headers: origin, x-requested-with, content-type\\r\\nAccess-Control-Allow-Methods: GET\\r\\n\\r\\nBut soft what light through yonder window breaks\\nIt is the east and Juliet is the sun\\nArise fair sun and'\n",
      "b' kill the envious moon\\nWho is already sick and pale with grief\\n'\n"
     ]
    }
   ],
   "source": [
    "while True:\n",
    "    data=mysock.recv(512)\n",
    "    if(len(data)<1):\n",
    "        break\n",
    "    print(data)\n",
    "mysock.close()"
   ]
  },
  {
   "cell_type": "code",
   "execution_count": 47,
   "metadata": {
    "collapsed": false
   },
   "outputs": [
    {
     "name": "stdout",
     "output_type": "stream",
     "text": [
      "b'HTTP/1.1 200 OK\\r\\nContent-Type: text/plain\\r\\nContent-Length: 167\\r\\nConnection: close\\r\\nDate: Mon, 13 Mar 2017 04:50:05 GMT\\r\\nServer: Apache\\r\\nLast-Modified: Fri, 04 Dec 2015 19:05:04 GMT\\r\\nETag: \"a7-526172f5b5d89\"\\r\\nAccept-Ranges: bytes\\r\\nCache-Control: max-age=604800, public\\r\\nAccess-Control-Allow-Origin: *\\r\\nAccess-Control-Allow-Headers: origin, x-requested-with, content-type\\r\\nAccess-Control-Allow-Methods: GET\\r\\n\\r\\nBut soft what light through yonder window breaks\\nIt is the east and Juliet is the sun\\nArise fair sun and'\n",
      "b' kill the envious moon\\nWho is already sick and pale with grief\\n'\n"
     ]
    }
   ],
   "source": [
    "import socket\n",
    "\n",
    "mysock = socket.socket(socket.AF_INET, socket.SOCK_STREAM)\n",
    "mysock.connect(('www.py4inf.com', 80))\n",
    "mysock.send('GET http://www.py4inf.com/code/romeo.txt  HTTP/1.0\\n\\n'.encode('utf-8'))\n",
    "\n",
    "while True:\n",
    "    data = mysock.recv(512)\n",
    "    if ( len(data) < 1 ) :\n",
    "        break\n",
    "    print(data)\n",
    "\n",
    "mysock.close()"
   ]
  },
  {
   "cell_type": "code",
   "execution_count": null,
   "metadata": {
    "collapsed": true
   },
   "outputs": [],
   "source": [
    "import socket\n",
    "\n",
    "mysock = socket.socket(socket.AF_INET, socket.SOCK_STREAM)\n",
    "mysock.connect(('www.pythonlearn.com', 80))\n",
    "mysock.send('GET http://www.pythonlearn.com/code/intro-short.txt HTTP/1.0\\n\\n'.encode('utf-8'))\n",
    "\n",
    "while True:\n",
    "    data = mysock.recv(512)\n",
    "    if ( len(data) < 1 ) :\n",
    "        break\n",
    "    print(data)\n",
    "\n",
    "mysock.close()"
   ]
  },
  {
   "cell_type": "code",
   "execution_count": 48,
   "metadata": {
    "collapsed": true
   },
   "outputs": [],
   "source": [
    "import urllib"
   ]
  },
  {
   "cell_type": "code",
   "execution_count": 50,
   "metadata": {
    "collapsed": false
   },
   "outputs": [],
   "source": [
    "#fhand=urllib.urlopen('http://www.py4inf.com/code/romeo.txt')\n",
    "#this for python 2"
   ]
  },
  {
   "cell_type": "code",
   "execution_count": 51,
   "metadata": {
    "collapsed": true
   },
   "outputs": [],
   "source": [
    "#for python  3"
   ]
  },
  {
   "cell_type": "code",
   "execution_count": 52,
   "metadata": {
    "collapsed": false
   },
   "outputs": [
    {
     "name": "stdout",
     "output_type": "stream",
     "text": [
      "b'But soft what light through yonder window breaks\\nIt is the east and Juliet is the sun\\nArise fair sun and kill the envious moon\\nWho is already sick and pale with grief\\n'\n"
     ]
    }
   ],
   "source": [
    "import urllib.request\n",
    "with urllib.request.urlopen(\"http://www.py4inf.com/code/romeo.txt\") as url:\n",
    "    s = url.read()\n",
    " \n",
    "print(s)"
   ]
  },
  {
   "cell_type": "code",
   "execution_count": 60,
   "metadata": {
    "collapsed": false
   },
   "outputs": [
    {
     "data": {
      "text/plain": [
       "\"b'But soft what light through yonder window breaks\\\\nIt is the east and Juliet is the sun\\\\nArise fair sun and kill the envious moon\\\\nWho is already sick and pale with grief\\\\n'\""
      ]
     },
     "execution_count": 60,
     "metadata": {},
     "output_type": "execute_result"
    }
   ],
   "source": [
    "str(s)"
   ]
  },
  {
   "cell_type": "code",
   "execution_count": 61,
   "metadata": {
    "collapsed": false
   },
   "outputs": [
    {
     "data": {
      "text/plain": [
       "'But soft what light through yonder window breaks\\nIt is the east and Juliet is the sun\\nArise fair sun and kill the envious moon\\nWho is already sick and pale with grief\\n'"
      ]
     },
     "execution_count": 61,
     "metadata": {},
     "output_type": "execute_result"
    }
   ],
   "source": [
    "s.decode('utf-8')"
   ]
  },
  {
   "cell_type": "code",
   "execution_count": 75,
   "metadata": {
    "collapsed": false
   },
   "outputs": [
    {
     "data": {
      "text/plain": [
       "['But soft what light through yonder window breaks',\n",
       " 'It is the east and Juliet is the sun',\n",
       " 'Arise fair sun and kill the envious moon',\n",
       " 'Who is already sick and pale with grief',\n",
       " '']"
      ]
     },
     "execution_count": 75,
     "metadata": {},
     "output_type": "execute_result"
    }
   ],
   "source": [
    "s.decode('utf-8').split(\"\\n\")"
   ]
  },
  {
   "cell_type": "code",
   "execution_count": null,
   "metadata": {
    "collapsed": true
   },
   "outputs": [],
   "source": []
  }
 ],
 "metadata": {
  "kernelspec": {
   "display_name": "Python 3",
   "language": "python",
   "name": "python3"
  },
  "language_info": {
   "codemirror_mode": {
    "name": "ipython",
    "version": 3
   },
   "file_extension": ".py",
   "mimetype": "text/x-python",
   "name": "python",
   "nbconvert_exporter": "python",
   "pygments_lexer": "ipython3",
   "version": "3.5.2"
  }
 },
 "nbformat": 4,
 "nbformat_minor": 2
}
